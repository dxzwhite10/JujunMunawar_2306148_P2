{
  "nbformat": 4,
  "nbformat_minor": 0,
  "metadata": {
    "colab": {
      "provenance": []
    },
    "kernelspec": {
      "name": "python3",
      "display_name": "Python 3"
    },
    "language_info": {
      "name": "python"
    }
  },
  "cells": [
    {
      "cell_type": "code",
      "execution_count": 1,
      "metadata": {
        "colab": {
          "base_uri": "https://localhost:8080/"
        },
        "id": "aJGgFo2NtOFo",
        "outputId": "d70eb4f4-4851-467a-b278-779b94b2cfe0"
      },
      "outputs": [
        {
          "output_type": "stream",
          "name": "stdout",
          "text": [
            "Hasil penelusuran BFS dimulai dari node 0:\n",
            "0  1  2  3  "
          ]
        }
      ],
      "source": [
        "import collections\n",
        "# BFS algorithm\n",
        "def bfs(graph, root):\n",
        "    visited, queue = set(), collections.deque([root])\n",
        "    visited.add(root)\n",
        "\n",
        "    while queue:\n",
        "        # Dequeue a vertex from queue\n",
        "        vertex = queue.popleft()  # Menggunakan popleft() yang benar\n",
        "        print(str(vertex) + \" \", end=\" \")\n",
        "\n",
        "        # Jika belum dikunjungi, tandai sebagai dikunjungi dan enqueue\n",
        "        for neighbour in graph[vertex]:\n",
        "            if neighbour not in visited:  # Perbaikan ejaan \"visisted\" → \"visited\"\n",
        "                visited.add(neighbour)\n",
        "                queue.append(neighbour)\n",
        "\n",
        "if __name__ == '__main__':\n",
        "    graph = {\n",
        "        0: [1, 2],\n",
        "        1: [2],\n",
        "        2: [3],\n",
        "        3: [1, 2]\n",
        "    }\n",
        "\n",
        "    print(\"Hasil penelusuran BFS dimulai dari node 0:\")\n",
        "    bfs(graph, 0)\n"
      ]
    }
  ]
}