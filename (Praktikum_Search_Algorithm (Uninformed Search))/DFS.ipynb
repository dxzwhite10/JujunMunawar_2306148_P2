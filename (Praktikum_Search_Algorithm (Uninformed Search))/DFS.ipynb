{
  "nbformat": 4,
  "nbformat_minor": 0,
  "metadata": {
    "colab": {
      "provenance": []
    },
    "kernelspec": {
      "name": "python3",
      "display_name": "Python 3"
    },
    "language_info": {
      "name": "python"
    }
  },
  "cells": [
    {
      "cell_type": "code",
      "execution_count": null,
      "metadata": {
        "colab": {
          "base_uri": "https://localhost:8080/"
        },
        "id": "aJGgFo2NtOFo",
        "outputId": "4347c298-e193-4022-b220-9583333ed18d"
      },
      "outputs": [
        {
          "output_type": "stream",
          "name": "stdout",
          "text": [
            "Berikut adalah Penelusuran Depth First (dimulai dari node 2):\n",
            "2 0 1 3 "
          ]
        }
      ],
      "source": [
        "# Python3 program to print DFS traversal from a given graph\n",
        "from collections import defaultdict\n",
        "\n",
        "# Kelas ini merepresentasikan sebuah graf yang diarahkan\n",
        "# menggunakan representasi daftar kejadian\n",
        "class Graph:\n",
        "    def __init__(self):\n",
        "        self.graph = defaultdict(list)\n",
        "\n",
        "    # Fungsi untuk menambahkan edge ke graf\n",
        "    def addEdge(self, u, v):\n",
        "        self.graph[u].append(v)\n",
        "\n",
        "    # Fungsi rekursif yang digunakan oleh DFS\n",
        "    def DFSUtil(self, v, visited):\n",
        "        # Menandai node sebagai dikunjungi dan mencetaknya\n",
        "        visited.add(v)\n",
        "        print(v, end=' ')\n",
        "\n",
        "        # Melakukan rekursi ke semua tetangga yang belum dikunjungi\n",
        "        for neighbour in self.graph[v]:\n",
        "            if neighbour not in visited:\n",
        "                self.DFSUtil(neighbour, visited)\n",
        "\n",
        "    # Fungsi utama untuk melakukan DFS\n",
        "    def DFS(self, v):\n",
        "        visited = set()  # Set untuk menyimpan node yang telah dikunjungi\n",
        "        self.DFSUtil(v, visited)\n",
        "\n",
        "# Kode pengguna\n",
        "if __name__ == \"__main__\":\n",
        "    g = Graph()\n",
        "    g.addEdge(0, 1)\n",
        "    g.addEdge(0, 2)\n",
        "    g.addEdge(1, 2)\n",
        "    g.addEdge(2, 0)\n",
        "    g.addEdge(2, 3)\n",
        "    g.addEdge(3, 3)\n",
        "\n",
        "    print(\"Berikut adalah Penelusuran Depth First (dimulai dari node 2):\")\n",
        "    g.DFS(2)\n"
      ]
    }
  ]
}